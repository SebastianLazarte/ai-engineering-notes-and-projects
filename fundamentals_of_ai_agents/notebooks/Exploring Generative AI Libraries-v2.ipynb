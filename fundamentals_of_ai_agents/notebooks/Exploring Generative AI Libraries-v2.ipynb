{
 "cells": [
  {
   "cell_type": "markdown",
   "id": "659781c5-e994-41df-9efa-1fe77b150ce6",
   "metadata": {},
   "source": [
    "<p style=\"text-align:center\">\n",
    "    <a href=\"https://skills.network\" target=\"_blank\">\n",
    "    <img src=\"https://cf-courses-data.s3.us.cloud-object-storage.appdomain.cloud/assets/logos/SN_web_lightmode.png\" width=\"200\" alt=\"Skills Network Logo\">\n",
    "    </a>\n",
    "</p>\n"
   ]
  },
  {
   "cell_type": "markdown",
   "id": "fcd1b3b8-6d61-4bff-8c2d-fcc5939eb8ca",
   "metadata": {},
   "source": [
    "# __Exploring Generative AI Libraries__\n"
   ]
  },
  {
   "cell_type": "markdown",
   "id": "f8c177a9-9f0e-4444-a417-ad2f2761640e",
   "metadata": {},
   "source": [
    "Estimated time needed: **60** minutes\n"
   ]
  },
  {
   "cell_type": "markdown",
   "id": "fbe19aac-51fd-47cf-8b37-a9c2e8e29bdf",
   "metadata": {},
   "source": [
    "##  __Table of Contents__\n",
    "\n",
    "<ol>\n",
    "    <li><a href=\"#Objectives\">Objectives</a></li>\n",
    "    <li>\n",
    "        <a href=\"#What-is-generative-AI?\">What is generative AI?</a>\n",
    "    </li>\n",
    "    <li>\n",
    "        <a href=\"#Real-world-impact-of-generative-AI\">Real-world impact of generative AI</a>\n",
    "        <ol>\n",
    "            <li><a href=\"#1.-Art-and-creativity\">Art and creativity</a></li>\n",
    "            <li><a href=\"#2.-Natural-language-processing-(NLP)\">Natural language processing (NLP)</a></li>\n",
    "            <li><a href=\"#3.-Computer-vision\">Computer vision</a></li>\n",
    "            <li><a href=\"#4.-Virtual-avatars\">Virtual avatars</a></li>\n",
    "        </ol>\n",
    "    </li>\n",
    "    <li><a href=\"#Text-generation-before-transformers\">Text generation before transformers</a>\n",
    "        <ol>\n",
    "            <li><a href=\"#1.-N-gram-language-models\">N-gram language models</a></li>\n",
    "            <li><a href=\"#2.-Recurrent-neural-networks-(RNN)\">Recurrent neural networks (RNN)</a></li>\n",
    "            <li><a href=\"#3.-Long-short-term-memory-(LSTM)-and-gated-recurrent-units-(GRUs)\">Long short-term memory (LSTM) and gated recurrent units (GRUs)</a></li>\n",
    "            <li><a href=\"#4.-Seq2seq-models-with-attention\"> Seq2seq models with attention</a></li>\n",
    "        </ol>\n",
    "    </li>\n",
    "    <li><a href=\"#Transformers\">Transformers</a>\n",
    "        <ol>\n",
    "            <li><a href=\"#Implementation:-Building-a-simple-chatbot-with-transformers\">Implementation: Building a simple chatbot with transformers</a>\n",
    "                <ol>\n",
    "                    <li><a href=\"#Step-1:-Installing-libraries\">Step 1: Installing libraries</a>\n",
    "                    <li><a href=\"#Step-2:-Importing-the-required-tools-from-the-transformers-library\">\n",
    "                        Step 2: Importing the required tools from the transformers library</a>\n",
    "            </li>\n",
    "        </ol>\n",
    "    </li>\n"
   ]
  },
  {
   "cell_type": "markdown",
   "id": "d4c7ae89-bd06-4f2e-96e7-7c673e19ce41",
   "metadata": {},
   "source": [
    "---\n"
   ]
  },
  {
   "cell_type": "markdown",
   "id": "1aafecc4-256c-4312-8815-277c26d1e2f5",
   "metadata": {},
   "source": [
    "## Objectives\n",
    "\n",
    "After completing this lab, you will be able to:\n",
    "\n",
    "- Gain an understanding of generative AI and its impact across various domains.\n",
    "- Familiarize yourself with different types of models in generative AI.\n",
    "- Acquire the skills to build and interact with a chatbot using transformers.\n"
   ]
  },
  {
   "cell_type": "markdown",
   "id": "2ccbd77c-1c82-42fe-b361-fb5ffaed08c5",
   "metadata": {},
   "source": [
    "## What is generative AI?\n",
    "Imagine presenting a computer with a vast array of paintings. After analyzing them, it tries to craft a unique painting of its own. This capability is termed generative AI. Essentially, the computer derives inspiration from the provided content and uses it to create something new.\n",
    "\n",
    "## Real-world impact of generative AI\n",
    "Generative AI is transforming multiple industries. Its applications span:\n",
    "\n",
    "### 1. Art and creativity\n",
    "- Generative art: Artists employing generative AI algorithms can create stunning artworks by learning from existing masterpieces and producing unique pieces inspired by them. These AI-generated artworks have gained recognition in the art world.\n",
    "- Music Composition: Projects in the realm of generative AI have been employed to compose music. They learn from a vast data set of musical compositions and can generate original pieces in various styles, from classical to jazz, revolutionizing the music industry.\n",
    "\n",
    "### 2. Natural language processing (NLP)\n",
    "- Content generation: Tools like generative pre-trained transformer (GPT) have demonstrated their ability to generate coherent and context-aware text. They can assist content creators by generating articles, stories, or marketing copy, making them valuable tools in content creation.\n",
    "- Chatbots and virtual assistants: Generative AI powers many of today's chatbots and virtual assistants. These AI-driven conversational agents understand and generate human-like responses, enhancing user experiences.\n",
    "- Code Writing: Generative AI models can also produce code snippets based on descriptions or requirements, streamlining software development.\n",
    "\n",
    "### 3. Computer vision\n",
    "- Image synthesis: Models like data analysis learning with language model for generation and exploration, frequencly known as DALL-E, can generate images from textual descriptions. This technology finds applications in graphic design, advertising, and creating visual content for marketing.\n",
    "- Deepfake detection: With the advancement in generative AI techniques, the generation of deep fake content is also on the rise. Consequently, generative AI now plays a role in developing tools and techniques to detect and combat the spread of misinformation through manipulated videos.\n",
    "\n",
    "### 4. Virtual avatars\n",
    "- Entertainment: Generative AI is utilized to craft virtual avatars for gaming and entertainment. These avatars mimic human expressions and emotions, bolstering user engagement in virtual environments.\n",
    "- Marketing: Virtual influencers, propelled by generative AI, are on the rise in digital marketing. Brands are harnessing these virtual personas to endorse their products and services.\n",
    "\n",
    "## Neural structures behind generative AI\n",
    "Before we had the powerful transformers, which are like super-fast readers and understand lots of words at once, there were other methods used for making computers generate text. These methods were like the building blocks that led to the amazing capabilities we have today.\n",
    "\n",
    "## Large language models (LLMs)\n",
    "Large language models are like supercharged brains. They are massive computer programs with lots of \"neurons\" that learn from huge amounts of text. These models are trained to do tasks like understanding and generating text, and they're used in many applications. However, there's a limitation: these models are not very good at understanding the bigger context or the meaning of words. They work well for simple predictions but struggle with more complex text.\n",
    "\n",
    "## Text generation before transformers\n",
    "\n",
    "### 1. N-gram language models\n",
    "N-gram models are like language detectives. They predict what words come next in a sentence based on the words that came before. For example, if you say \"The sky is,\" these models guess that the next word might be \"blue.\"\n",
    "\n",
    "### 2. Recurrent neural networks (RNN)\n",
    "Recurrent neural networks (RNNs) are specially designed to handle sequential data, making them a powerful tool for applications like language modeling and time series forecasting. The essence of their design lies in maintaining a 'memory' or 'hidden state' throughout the sequence by employing loops. This enables RNNs to recognize and capture the temporal dependencies inherent in sequential data.\n",
    "- Hidden state: Often referred to as the network's 'memory', the hidden state is a dynamic storage of information about previous sequence inputs. With each new input, this hidden state is updated, factoring in both the new input and its previous value.\n",
    "- Temporal dependency: Loops in RNNs enable information transfer across sequence steps.\n",
    "\n",
    "<img src=\"https://cf-courses-data.s3.us.cloud-object-storage.appdomain.cloud/IBMSkillsNetwork-GPXX0J87EN/%E9%80%92%E5%BD%92%E7%A5%9E%E7%BB%8F%E7%BD%91%E7%BB%9C%E5%9B%BE.png\" width=\"60%\" height=\"60%\"> \n",
    "\n",
    "<div style=\"text-align:center\"><a href=\"https://commons.wikimedia.org/wiki/File:%E9%80%92%E5%BD%92%E7%A5%9E%E7%BB%8F%E7%BD%91%E7%BB%9C%E5%9B%BE.png\">Image Source</a></div>\n",
    "\n",
    "Illustration of RNN's operation: Consider a simple sequence, such as the sentence: \"I love RNNs\". The RNN interprets this sentence word by word. Beginning with the word \"I\", the RNN ingests it, generates an output, and updates its hidden state. Moving on to \"love\", the RNN processes it alongside the updated hidden state which already holds insights about the word \"I\". The hidden state is updated again post this. This pattern of processing and updating continues until the last word. By the end of the sequence, the hidden state ideally encapsulates insights from the entire sentence.\n",
    "                                                                                                       \n",
    "### 3. Long short-term memory (LSTM) and gated recurrent units (GRUs)\n",
    "Long short-term memory (LSTM) and gated recurrent units (GRUs) are advanced variations of recurrent neural networks (RNNs), designed to address the limitations of traditional RNNs and enhance their ability to model sequential data effectively. They processed sequences one element at a time and maintained an internal state to remember past elements. While they were effective for a variety of tasks, they struggled with long sequences and long-term dependencies.\n",
    "\n",
    "### 4. Seq2seq models with attention\n",
    "- Sequence-to-sequence (seq2seq) models, often built with RNNs or LSTMs, were designed to handle tasks like translation where an input sequence is transformed into an output sequence.\n",
    "- The attention mechanism was introduced to allow the model to \"focus\" on relevant parts of the input sequence when generating the output, significantly improving performance on tasks like machine translation.\n",
    "\n",
    "While these methods provided significant advancements in text generation tasks, the introduction of transformers led to a paradigm shift. Transformers, with their self-attention mechanism, proved to be highly efficient at capturing contextual information across long sequences, setting new benchmarks in various NLP tasks.\n",
    "\n",
    "## Transformers\n",
    "Proposed in a paper titled \"Attention Is All You Need\" by Vaswani et al. in 2017, the transformer architecture replaced sequential processing with parallel processing. The key component behind its success? The attention mechanism, more precisely, self-attention.\n",
    "\n",
    "Key steps include:\n",
    "- Tokenization: The first step is breaking down a sentence into tokens (words or subwords).\n",
    "- Embedding: Each token is represented as a vector, capturing its meaning.\n",
    "- Self-attention: The model computes scores determining the importance of every other word for a particular word in the sequence. These scores are used to weight the input tokens and produce a new representation of the sequence. For instance, in the sentence \"He gave her a gift because she'd helped him\", understanding who \"her\" refers to requires the model to pay attention to other words in the sentence. The transformer does this for every word, considering the entire context, which is particularly powerful for understanding meaning.\n",
    "- Feed-forward neural networks: After attention, each position is passed through a feed-forward network separately.\n",
    "- Output sequence: The model produces an output sequence, which can be used for various tasks, like classification, translation, or text generation.\n",
    "- Layering: Importantly, transformers are deep models with multiple layers of attention and feed-forward networks, allowing them to learn complex patterns.\n",
    "\n",
    "The architecture's flexibility has allowed transformers to be used beyond NLP, finding applications in image and video processing too. In NLP, transformer-based models like BERT, GPT, and their variants have set state-of-the-art results in various tasks, from text classification to translation.\n",
    "\n",
    "### Implementation: Building a simple chatbot with transformers\n",
    "Now, you will build a simple chatbot using `transformers` library from Hugging Face, which is an open-source natural language processing (NLP) toolkit with many useful features.\n",
    "#### Step 1: Installing libraries\n"
   ]
  },
  {
   "cell_type": "code",
   "execution_count": 1,
   "id": "93b84a6a-d331-4aa4-88e2-e87bcbcf3de2",
   "metadata": {},
   "outputs": [
    {
     "name": "stderr",
     "output_type": "stream",
     "text": [
      "ERROR: pip's dependency resolver does not currently take into account all the packages that are installed. This behaviour is the source of the following dependency conflicts.\n",
      "streamlit 1.37.1 requires protobuf<6,>=3.20, but you have protobuf 6.32.1 which is incompatible.\n"
     ]
    },
    {
     "name": "stdout",
     "output_type": "stream",
     "text": [
      "Collecting transformers==4.42.1\n",
      "  Downloading transformers-4.42.1-py3-none-any.whl.metadata (43 kB)\n",
      "Requirement already satisfied: filelock in c:\\users\\sebaa\\anaconda3\\lib\\site-packages (from transformers==4.42.1) (3.13.1)\n",
      "Requirement already satisfied: huggingface-hub<1.0,>=0.23.2 in c:\\users\\sebaa\\appdata\\roaming\\python\\python312\\site-packages (from transformers==4.42.1) (0.35.1)\n",
      "Requirement already satisfied: numpy<2.0,>=1.17 in c:\\users\\sebaa\\anaconda3\\lib\\site-packages (from transformers==4.42.1) (1.26.4)\n",
      "Requirement already satisfied: packaging>=20.0 in c:\\users\\sebaa\\anaconda3\\lib\\site-packages (from transformers==4.42.1) (24.1)\n",
      "Requirement already satisfied: pyyaml>=5.1 in c:\\users\\sebaa\\anaconda3\\lib\\site-packages (from transformers==4.42.1) (6.0.1)\n",
      "Requirement already satisfied: regex!=2019.12.17 in c:\\users\\sebaa\\anaconda3\\lib\\site-packages (from transformers==4.42.1) (2024.9.11)\n",
      "Requirement already satisfied: requests in c:\\users\\sebaa\\anaconda3\\lib\\site-packages (from transformers==4.42.1) (2.32.3)\n",
      "Collecting tokenizers<0.20,>=0.19 (from transformers==4.42.1)\n",
      "  Downloading tokenizers-0.19.1-cp312-none-win_amd64.whl.metadata (6.9 kB)\n",
      "Requirement already satisfied: safetensors>=0.4.1 in c:\\users\\sebaa\\appdata\\roaming\\python\\python312\\site-packages (from transformers==4.42.1) (0.6.2)\n",
      "Requirement already satisfied: tqdm>=4.27 in c:\\users\\sebaa\\anaconda3\\lib\\site-packages (from transformers==4.42.1) (4.66.5)\n",
      "Requirement already satisfied: fsspec>=2023.5.0 in c:\\users\\sebaa\\anaconda3\\lib\\site-packages (from huggingface-hub<1.0,>=0.23.2->transformers==4.42.1) (2024.6.1)\n",
      "Requirement already satisfied: typing-extensions>=3.7.4.3 in c:\\users\\sebaa\\anaconda3\\lib\\site-packages (from huggingface-hub<1.0,>=0.23.2->transformers==4.42.1) (4.15.0)\n",
      "Requirement already satisfied: colorama in c:\\users\\sebaa\\anaconda3\\lib\\site-packages (from tqdm>=4.27->transformers==4.42.1) (0.4.6)\n",
      "Requirement already satisfied: charset-normalizer<4,>=2 in c:\\users\\sebaa\\anaconda3\\lib\\site-packages (from requests->transformers==4.42.1) (3.3.2)\n",
      "Requirement already satisfied: idna<4,>=2.5 in c:\\users\\sebaa\\anaconda3\\lib\\site-packages (from requests->transformers==4.42.1) (3.7)\n",
      "Requirement already satisfied: urllib3<3,>=1.21.1 in c:\\users\\sebaa\\anaconda3\\lib\\site-packages (from requests->transformers==4.42.1) (2.2.3)\n",
      "Requirement already satisfied: certifi>=2017.4.17 in c:\\users\\sebaa\\anaconda3\\lib\\site-packages (from requests->transformers==4.42.1) (2024.8.30)\n",
      "Downloading transformers-4.42.1-py3-none-any.whl (9.3 MB)\n",
      "   ---------------------------------------- 0.0/9.3 MB ? eta -:--:--\n",
      "   ---- ----------------------------------- 1.0/9.3 MB 10.1 MB/s eta 0:00:01\n",
      "   ------------- -------------------------- 3.1/9.3 MB 9.7 MB/s eta 0:00:01\n",
      "   ---------------------- ----------------- 5.2/9.3 MB 10.6 MB/s eta 0:00:01\n",
      "   ------------------------------ --------- 7.1/9.3 MB 10.1 MB/s eta 0:00:01\n",
      "   -------------------------------------- - 8.9/9.3 MB 9.5 MB/s eta 0:00:01\n",
      "   ---------------------------------------- 9.3/9.3 MB 8.8 MB/s eta 0:00:00\n",
      "Downloading tokenizers-0.19.1-cp312-none-win_amd64.whl (2.2 MB)\n",
      "   ---------------------------------------- 0.0/2.2 MB ? eta -:--:--\n",
      "   ------------------------------------- -- 2.1/2.2 MB 16.7 MB/s eta 0:00:01\n",
      "   ---------------------------------------- 2.2/2.2 MB 8.3 MB/s eta 0:00:00\n",
      "Installing collected packages: tokenizers, transformers\n",
      "  Attempting uninstall: tokenizers\n",
      "    Found existing installation: tokenizers 0.22.1\n",
      "    Uninstalling tokenizers-0.22.1:\n",
      "      Successfully uninstalled tokenizers-0.22.1\n",
      "  Attempting uninstall: transformers\n",
      "    Found existing installation: transformers 4.56.2\n",
      "    Uninstalling transformers-4.56.2:\n",
      "      Successfully uninstalled transformers-4.56.2\n",
      "Successfully installed tokenizers-0.19.1 transformers-4.42.1\n",
      "Collecting sentencepiece\n",
      "  Downloading sentencepiece-0.2.1-cp312-cp312-win_amd64.whl.metadata (10 kB)\n",
      "Downloading sentencepiece-0.2.1-cp312-cp312-win_amd64.whl (1.1 MB)\n",
      "   ---------------------------------------- 0.0/1.1 MB ? eta -:--:--\n",
      "   ------------------- -------------------- 0.5/1.1 MB 5.7 MB/s eta 0:00:01\n",
      "   ---------------------------------------- 1.1/1.1 MB 6.3 MB/s eta 0:00:00\n",
      "Installing collected packages: sentencepiece\n",
      "Successfully installed sentencepiece-0.2.1\n",
      "Collecting torch==2.2.2\n",
      "  Downloading torch-2.2.2-cp312-cp312-win_amd64.whl.metadata (26 kB)\n",
      "Requirement already satisfied: filelock in c:\\users\\sebaa\\anaconda3\\lib\\site-packages (from torch==2.2.2) (3.13.1)\n",
      "Requirement already satisfied: typing-extensions>=4.8.0 in c:\\users\\sebaa\\anaconda3\\lib\\site-packages (from torch==2.2.2) (4.15.0)\n",
      "Requirement already satisfied: sympy in c:\\users\\sebaa\\appdata\\roaming\\python\\python312\\site-packages (from torch==2.2.2) (1.14.0)\n",
      "Requirement already satisfied: networkx in c:\\users\\sebaa\\anaconda3\\lib\\site-packages (from torch==2.2.2) (3.3)\n",
      "Requirement already satisfied: jinja2 in c:\\users\\sebaa\\anaconda3\\lib\\site-packages (from torch==2.2.2) (3.1.4)\n",
      "Requirement already satisfied: fsspec in c:\\users\\sebaa\\anaconda3\\lib\\site-packages (from torch==2.2.2) (2024.6.1)\n",
      "Requirement already satisfied: MarkupSafe>=2.0 in c:\\users\\sebaa\\anaconda3\\lib\\site-packages (from jinja2->torch==2.2.2) (2.1.3)\n",
      "Requirement already satisfied: mpmath<1.4,>=1.1.0 in c:\\users\\sebaa\\anaconda3\\lib\\site-packages (from sympy->torch==2.2.2) (1.3.0)\n",
      "Downloading torch-2.2.2-cp312-cp312-win_amd64.whl (198.5 MB)\n",
      "   ---------------------------------------- 0.0/198.5 MB ? eta -:--:--\n",
      "   ---------------------------------------- 1.0/198.5 MB 8.4 MB/s eta 0:00:24\n",
      "    --------------------------------------- 3.1/198.5 MB 10.8 MB/s eta 0:00:19\n",
      "   - -------------------------------------- 5.2/198.5 MB 10.0 MB/s eta 0:00:20\n",
      "   - -------------------------------------- 6.3/198.5 MB 9.9 MB/s eta 0:00:20\n",
      "   - -------------------------------------- 7.6/198.5 MB 8.0 MB/s eta 0:00:24\n",
      "   - -------------------------------------- 9.4/198.5 MB 8.6 MB/s eta 0:00:22\n",
      "   - -------------------------------------- 9.4/198.5 MB 8.6 MB/s eta 0:00:22\n",
      "   -- ------------------------------------- 11.0/198.5 MB 7.0 MB/s eta 0:00:27\n",
      "   -- ------------------------------------- 11.5/198.5 MB 7.3 MB/s eta 0:00:26\n",
      "   -- ------------------------------------- 12.6/198.5 MB 6.3 MB/s eta 0:00:30\n",
      "   -- ------------------------------------- 14.2/198.5 MB 6.5 MB/s eta 0:00:29\n",
      "   --- ------------------------------------ 16.3/198.5 MB 6.8 MB/s eta 0:00:27\n",
      "   --- ------------------------------------ 17.8/198.5 MB 7.1 MB/s eta 0:00:26\n",
      "   ---- ----------------------------------- 19.9/198.5 MB 7.1 MB/s eta 0:00:25\n",
      "   ---- ----------------------------------- 20.2/198.5 MB 6.7 MB/s eta 0:00:27\n",
      "   ---- ----------------------------------- 22.0/198.5 MB 7.0 MB/s eta 0:00:26\n",
      "   ---- ----------------------------------- 22.0/198.5 MB 7.0 MB/s eta 0:00:26\n",
      "   ---- ----------------------------------- 24.1/198.5 MB 6.6 MB/s eta 0:00:27\n",
      "   ----- ---------------------------------- 26.2/198.5 MB 6.9 MB/s eta 0:00:26\n",
      "   ----- ---------------------------------- 28.8/198.5 MB 7.1 MB/s eta 0:00:24\n",
      "   ------ --------------------------------- 30.7/198.5 MB 7.3 MB/s eta 0:00:24\n",
      "   ------ --------------------------------- 31.5/198.5 MB 7.3 MB/s eta 0:00:23\n",
      "   ------ --------------------------------- 33.3/198.5 MB 7.2 MB/s eta 0:00:23\n",
      "   ------ --------------------------------- 34.6/198.5 MB 7.2 MB/s eta 0:00:23\n",
      "   ------- -------------------------------- 36.7/198.5 MB 7.3 MB/s eta 0:00:23\n",
      "   ------- -------------------------------- 38.3/198.5 MB 7.3 MB/s eta 0:00:22\n",
      "   ------- -------------------------------- 39.1/198.5 MB 7.2 MB/s eta 0:00:23\n",
      "   -------- ------------------------------- 41.2/198.5 MB 7.3 MB/s eta 0:00:22\n",
      "   -------- ------------------------------- 43.0/198.5 MB 7.4 MB/s eta 0:00:22\n",
      "   --------- ------------------------------ 45.1/198.5 MB 7.4 MB/s eta 0:00:21\n",
      "   --------- ------------------------------ 46.9/198.5 MB 7.5 MB/s eta 0:00:21\n",
      "   --------- ------------------------------ 49.0/198.5 MB 7.6 MB/s eta 0:00:20\n",
      "   ---------- ----------------------------- 51.1/198.5 MB 7.7 MB/s eta 0:00:20\n",
      "   ---------- ----------------------------- 53.5/198.5 MB 7.8 MB/s eta 0:00:19\n",
      "   ----------- ---------------------------- 55.6/198.5 MB 7.8 MB/s eta 0:00:19\n",
      "   ----------- ---------------------------- 57.7/198.5 MB 7.9 MB/s eta 0:00:18\n",
      "   ----------- ---------------------------- 59.5/198.5 MB 7.9 MB/s eta 0:00:18\n",
      "   ------------ --------------------------- 59.8/198.5 MB 7.9 MB/s eta 0:00:18\n",
      "   ------------ --------------------------- 60.8/198.5 MB 7.7 MB/s eta 0:00:18\n",
      "   ------------ --------------------------- 62.4/198.5 MB 7.7 MB/s eta 0:00:18\n",
      "   ------------ --------------------------- 64.2/198.5 MB 7.7 MB/s eta 0:00:18\n",
      "   ------------- -------------------------- 65.8/198.5 MB 7.7 MB/s eta 0:00:18\n",
      "   ------------- -------------------------- 67.6/198.5 MB 7.7 MB/s eta 0:00:17\n",
      "   ------------- -------------------------- 69.5/198.5 MB 7.8 MB/s eta 0:00:17\n",
      "   -------------- ------------------------- 71.0/198.5 MB 7.8 MB/s eta 0:00:17\n",
      "   -------------- ------------------------- 72.9/198.5 MB 7.8 MB/s eta 0:00:17\n",
      "   --------------- ------------------------ 74.7/198.5 MB 7.8 MB/s eta 0:00:16\n",
      "   --------------- ------------------------ 76.5/198.5 MB 7.8 MB/s eta 0:00:16\n",
      "   --------------- ------------------------ 78.4/198.5 MB 7.9 MB/s eta 0:00:16\n",
      "   ---------------- ----------------------- 80.0/198.5 MB 7.9 MB/s eta 0:00:16\n",
      "   ---------------- ----------------------- 81.8/198.5 MB 7.9 MB/s eta 0:00:15\n",
      "   ---------------- ----------------------- 83.9/198.5 MB 7.9 MB/s eta 0:00:15\n",
      "   ----------------- ---------------------- 85.5/198.5 MB 7.9 MB/s eta 0:00:15\n",
      "   ----------------- ---------------------- 87.3/198.5 MB 8.0 MB/s eta 0:00:14\n",
      "   ----------------- ---------------------- 89.1/198.5 MB 8.0 MB/s eta 0:00:14\n",
      "   ------------------ --------------------- 91.0/198.5 MB 8.0 MB/s eta 0:00:14\n",
      "   ------------------ --------------------- 92.8/198.5 MB 8.0 MB/s eta 0:00:14\n",
      "   ------------------- -------------------- 94.6/198.5 MB 8.0 MB/s eta 0:00:13\n",
      "   ------------------- -------------------- 96.7/198.5 MB 8.0 MB/s eta 0:00:13\n",
      "   ------------------- -------------------- 98.3/198.5 MB 8.0 MB/s eta 0:00:13\n",
      "   -------------------- ------------------- 99.9/198.5 MB 8.0 MB/s eta 0:00:13\n",
      "   -------------------- ------------------- 101.7/198.5 MB 8.1 MB/s eta 0:00:13\n",
      "   -------------------- ------------------- 103.3/198.5 MB 8.1 MB/s eta 0:00:12\n",
      "   -------------------- ------------------- 103.8/198.5 MB 8.1 MB/s eta 0:00:12\n",
      "   --------------------- ------------------ 105.4/198.5 MB 8.0 MB/s eta 0:00:12\n",
      "   --------------------- ------------------ 107.2/198.5 MB 8.0 MB/s eta 0:00:12\n",
      "   ---------------------- ----------------- 109.3/198.5 MB 8.0 MB/s eta 0:00:12\n",
      "   ---------------------- ----------------- 110.4/198.5 MB 8.0 MB/s eta 0:00:12\n",
      "   ---------------------- ----------------- 112.5/198.5 MB 8.0 MB/s eta 0:00:11\n",
      "   ----------------------- ---------------- 114.3/198.5 MB 8.0 MB/s eta 0:00:11\n",
      "   ----------------------- ---------------- 116.4/198.5 MB 8.1 MB/s eta 0:00:11\n",
      "   ----------------------- ---------------- 117.4/198.5 MB 8.1 MB/s eta 0:00:11\n",
      "   ----------------------- ---------------- 119.0/198.5 MB 8.0 MB/s eta 0:00:10\n",
      "   ------------------------ --------------- 120.8/198.5 MB 8.0 MB/s eta 0:00:10\n",
      "   ------------------------ --------------- 122.7/198.5 MB 8.0 MB/s eta 0:00:10\n",
      "   ------------------------- -------------- 124.8/198.5 MB 8.1 MB/s eta 0:00:10\n",
      "   ------------------------- -------------- 126.4/198.5 MB 8.1 MB/s eta 0:00:09\n",
      "   ------------------------- -------------- 128.2/198.5 MB 8.1 MB/s eta 0:00:09\n",
      "   ------------------------- -------------- 129.0/198.5 MB 8.1 MB/s eta 0:00:09\n",
      "   -------------------------- ------------- 129.8/198.5 MB 8.0 MB/s eta 0:00:09\n",
      "   -------------------------- ------------- 131.1/198.5 MB 8.0 MB/s eta 0:00:09\n",
      "   -------------------------- ------------- 131.3/198.5 MB 7.9 MB/s eta 0:00:09\n",
      "   -------------------------- ------------- 133.4/198.5 MB 7.9 MB/s eta 0:00:09\n",
      "   --------------------------- ------------ 135.5/198.5 MB 7.9 MB/s eta 0:00:08\n",
      "   --------------------------- ------------ 136.3/198.5 MB 7.9 MB/s eta 0:00:08\n",
      "   --------------------------- ------------ 138.4/198.5 MB 7.9 MB/s eta 0:00:08\n",
      "   ---------------------------- ----------- 140.2/198.5 MB 7.9 MB/s eta 0:00:08\n",
      "   ---------------------------- ----------- 142.3/198.5 MB 7.9 MB/s eta 0:00:08\n",
      "   ----------------------------- ---------- 144.7/198.5 MB 8.0 MB/s eta 0:00:07\n",
      "   ----------------------------- ---------- 147.1/198.5 MB 8.0 MB/s eta 0:00:07\n",
      "   ------------------------------ --------- 148.9/198.5 MB 8.0 MB/s eta 0:00:07\n",
      "   ------------------------------ --------- 151.0/198.5 MB 8.0 MB/s eta 0:00:06\n",
      "   ------------------------------ --------- 152.6/198.5 MB 8.0 MB/s eta 0:00:06\n",
      "   ------------------------------- -------- 154.4/198.5 MB 8.0 MB/s eta 0:00:06\n",
      "   ------------------------------- -------- 156.2/198.5 MB 8.1 MB/s eta 0:00:06\n",
      "   ------------------------------- -------- 157.8/198.5 MB 8.0 MB/s eta 0:00:06\n",
      "   -------------------------------- ------- 159.6/198.5 MB 8.1 MB/s eta 0:00:05\n",
      "   -------------------------------- ------- 161.5/198.5 MB 8.1 MB/s eta 0:00:05\n",
      "   -------------------------------- ------- 163.1/198.5 MB 8.1 MB/s eta 0:00:05\n",
      "   --------------------------------- ------ 165.2/198.5 MB 8.1 MB/s eta 0:00:05\n",
      "   --------------------------------- ------ 167.2/198.5 MB 8.1 MB/s eta 0:00:04\n",
      "   ---------------------------------- ----- 169.3/198.5 MB 8.1 MB/s eta 0:00:04\n",
      "   ---------------------------------- ----- 171.2/198.5 MB 8.1 MB/s eta 0:00:04\n",
      "   ---------------------------------- ----- 173.3/198.5 MB 8.2 MB/s eta 0:00:04\n",
      "   ----------------------------------- ---- 175.4/198.5 MB 8.2 MB/s eta 0:00:03\n",
      "   ----------------------------------- ---- 177.5/198.5 MB 8.2 MB/s eta 0:00:03\n",
      "   ------------------------------------ --- 179.3/198.5 MB 8.2 MB/s eta 0:00:03\n",
      "   ------------------------------------ --- 180.9/198.5 MB 8.2 MB/s eta 0:00:03\n",
      "   ------------------------------------ --- 183.2/198.5 MB 8.2 MB/s eta 0:00:02\n",
      "   ------------------------------------- -- 185.3/198.5 MB 8.2 MB/s eta 0:00:02\n",
      "   ------------------------------------- -- 187.4/198.5 MB 8.3 MB/s eta 0:00:02\n",
      "   -------------------------------------- - 189.5/198.5 MB 8.3 MB/s eta 0:00:02\n",
      "   -------------------------------------- - 191.6/198.5 MB 8.3 MB/s eta 0:00:01\n",
      "   -------------------------------------- - 193.5/198.5 MB 8.3 MB/s eta 0:00:01\n",
      "   ---------------------------------------  194.2/198.5 MB 8.3 MB/s eta 0:00:01\n",
      "   ---------------------------------------  196.3/198.5 MB 8.3 MB/s eta 0:00:01\n",
      "   ---------------------------------------  198.2/198.5 MB 8.3 MB/s eta 0:00:01\n",
      "   ---------------------------------------  198.2/198.5 MB 8.3 MB/s eta 0:00:01\n",
      "   ---------------------------------------  198.4/198.5 MB 8.2 MB/s eta 0:00:01\n",
      "   ---------------------------------------  198.4/198.5 MB 8.2 MB/s eta 0:00:01\n",
      "   ---------------------------------------  198.4/198.5 MB 8.2 MB/s eta 0:00:01\n",
      "   ---------------------------------------  198.4/198.5 MB 8.2 MB/s eta 0:00:01\n",
      "   ---------------------------------------- 198.5/198.5 MB 7.9 MB/s eta 0:00:00\n",
      "Installing collected packages: torch\n",
      "  Attempting uninstall: torch\n",
      "    Found existing installation: torch 2.8.0\n",
      "    Uninstalling torch-2.8.0:\n",
      "      Successfully uninstalled torch-2.8.0\n",
      "Successfully installed torch-2.2.2\n",
      "Collecting torchtext==0.17.2\n",
      "  Downloading torchtext-0.17.2-cp312-cp312-win_amd64.whl.metadata (7.9 kB)\n",
      "Requirement already satisfied: tqdm in c:\\users\\sebaa\\anaconda3\\lib\\site-packages (from torchtext==0.17.2) (4.66.5)\n",
      "Requirement already satisfied: requests in c:\\users\\sebaa\\anaconda3\\lib\\site-packages (from torchtext==0.17.2) (2.32.3)\n",
      "Requirement already satisfied: torch==2.2.2 in c:\\users\\sebaa\\anaconda3\\lib\\site-packages (from torchtext==0.17.2) (2.2.2)\n",
      "Requirement already satisfied: numpy in c:\\users\\sebaa\\anaconda3\\lib\\site-packages (from torchtext==0.17.2) (1.26.4)\n",
      "Requirement already satisfied: filelock in c:\\users\\sebaa\\anaconda3\\lib\\site-packages (from torch==2.2.2->torchtext==0.17.2) (3.13.1)\n",
      "Requirement already satisfied: typing-extensions>=4.8.0 in c:\\users\\sebaa\\anaconda3\\lib\\site-packages (from torch==2.2.2->torchtext==0.17.2) (4.15.0)\n",
      "Requirement already satisfied: sympy in c:\\users\\sebaa\\appdata\\roaming\\python\\python312\\site-packages (from torch==2.2.2->torchtext==0.17.2) (1.14.0)\n",
      "Requirement already satisfied: networkx in c:\\users\\sebaa\\anaconda3\\lib\\site-packages (from torch==2.2.2->torchtext==0.17.2) (3.3)\n",
      "Requirement already satisfied: jinja2 in c:\\users\\sebaa\\anaconda3\\lib\\site-packages (from torch==2.2.2->torchtext==0.17.2) (3.1.4)\n",
      "Requirement already satisfied: fsspec in c:\\users\\sebaa\\anaconda3\\lib\\site-packages (from torch==2.2.2->torchtext==0.17.2) (2024.6.1)\n",
      "Requirement already satisfied: charset-normalizer<4,>=2 in c:\\users\\sebaa\\anaconda3\\lib\\site-packages (from requests->torchtext==0.17.2) (3.3.2)\n",
      "Requirement already satisfied: idna<4,>=2.5 in c:\\users\\sebaa\\anaconda3\\lib\\site-packages (from requests->torchtext==0.17.2) (3.7)\n",
      "Requirement already satisfied: urllib3<3,>=1.21.1 in c:\\users\\sebaa\\anaconda3\\lib\\site-packages (from requests->torchtext==0.17.2) (2.2.3)\n",
      "Requirement already satisfied: certifi>=2017.4.17 in c:\\users\\sebaa\\anaconda3\\lib\\site-packages (from requests->torchtext==0.17.2) (2024.8.30)\n",
      "Requirement already satisfied: colorama in c:\\users\\sebaa\\anaconda3\\lib\\site-packages (from tqdm->torchtext==0.17.2) (0.4.6)\n",
      "Requirement already satisfied: MarkupSafe>=2.0 in c:\\users\\sebaa\\anaconda3\\lib\\site-packages (from jinja2->torch==2.2.2->torchtext==0.17.2) (2.1.3)\n",
      "Requirement already satisfied: mpmath<1.4,>=1.1.0 in c:\\users\\sebaa\\anaconda3\\lib\\site-packages (from sympy->torch==2.2.2->torchtext==0.17.2) (1.3.0)\n",
      "Downloading torchtext-0.17.2-cp312-cp312-win_amd64.whl (1.9 MB)\n",
      "   ---------------------------------------- 0.0/1.9 MB ? eta -:--:--\n",
      "   ---------------- ----------------------- 0.8/1.9 MB 6.7 MB/s eta 0:00:01\n",
      "   ---------------------------------------- 1.9/1.9 MB 9.8 MB/s eta 0:00:00\n",
      "Installing collected packages: torchtext\n",
      "Successfully installed torchtext-0.17.2\n",
      "Collecting numpy==1.26\n",
      "  Downloading numpy-1.26.0-cp312-cp312-win_amd64.whl.metadata (61 kB)\n",
      "Downloading numpy-1.26.0-cp312-cp312-win_amd64.whl (15.5 MB)\n",
      "   ---------------------------------------- 0.0/15.5 MB ? eta -:--:--\n",
      "   ----- ---------------------------------- 2.1/15.5 MB 16.8 MB/s eta 0:00:01\n",
      "   --------- ------------------------------ 3.7/15.5 MB 11.5 MB/s eta 0:00:02\n",
      "   -------------- ------------------------- 5.5/15.5 MB 11.6 MB/s eta 0:00:01\n",
      "   ------------------- -------------------- 7.6/15.5 MB 11.2 MB/s eta 0:00:01\n",
      "   -------------------------- ------------- 10.2/15.5 MB 10.8 MB/s eta 0:00:01\n",
      "   ------------------------------- -------- 12.1/15.5 MB 10.5 MB/s eta 0:00:01\n",
      "   ----------------------------------- ---- 13.9/15.5 MB 10.2 MB/s eta 0:00:01\n",
      "   ---------------------------------------  15.5/15.5 MB 10.0 MB/s eta 0:00:01\n",
      "   ---------------------------------------- 15.5/15.5 MB 9.5 MB/s eta 0:00:00\n",
      "Installing collected packages: numpy\n",
      "  Attempting uninstall: numpy\n",
      "    Found existing installation: numpy 1.26.4\n",
      "    Uninstalling numpy-1.26.4:\n",
      "      Successfully uninstalled numpy-1.26.4\n",
      "Successfully installed numpy-1.26.0\n"
     ]
    },
    {
     "name": "stderr",
     "output_type": "stream",
     "text": [
      "  WARNING: Failed to remove contents in a temporary directory 'C:\\Users\\sebaa\\anaconda3\\Lib\\site-packages\\~-mpy.libs'.\n",
      "  You can safely remove it manually.\n",
      "  WARNING: Failed to remove contents in a temporary directory 'C:\\Users\\sebaa\\anaconda3\\Lib\\site-packages\\~-mpy'.\n",
      "  You can safely remove it manually.\n",
      "ERROR: pip's dependency resolver does not currently take into account all the packages that are installed. This behaviour is the source of the following dependency conflicts.\n",
      "streamlit 1.37.1 requires protobuf<6,>=3.20, but you have protobuf 6.32.1 which is incompatible.\n"
     ]
    }
   ],
   "source": [
    "!pip install -qq tensorflow\n",
    "!pip install transformers==4.42.1 -U\n",
    "!pip install sentencepiece\n",
    "!pip install torch==2.2.2\n",
    "!pip install torchtext==0.17.2\n",
    "!pip install numpy==1.26\n",
    "#!pip install --upgrade numpy transformers torch\n"
   ]
  },
  {
   "cell_type": "markdown",
   "id": "b70cc54d-3c19-4a2b-8404-7dfbe519d743",
   "metadata": {},
   "source": [
    "#### Step 2: Importing the required tools from the transformers library\n",
    "In the upcoming script, you initiate variables using two invaluable classes from the transformers library:\n",
    "- `model` is an instance of the class `AutoModelForSeq2SeqLM`. This class lets you interact with your chosen language model.\n",
    "- `tokenizer` is an instance of the class `AutoTokenizer`. This class streamlines your input and presents it to the language model in the most efficient manner. It achieves this by converting your text input into \"tokens\", which is the model's preferred way of interpreting text.\n",
    "You choose \"facebook/blenderbot-400M-distill\" for this example model because it is freely available under an open-source license and operates at a relatively brisk pace. For a diverse range of models and their capabilities, you can explore the Hugging Face website: [Hugging Face Models](https://huggingface.co/models).\n"
   ]
  },
  {
   "cell_type": "code",
   "execution_count": 12,
   "id": "ae4fd932-eede-4e30-b96c-b5cf18dcd558",
   "metadata": {},
   "outputs": [
    {
     "data": {
      "application/vnd.jupyter.widget-view+json": {
       "model_id": "d7270d0f04ac4e059a9e310c461117e3",
       "version_major": 2,
       "version_minor": 0
      },
      "text/plain": [
       "config.json: 0.00B [00:00, ?B/s]"
      ]
     },
     "metadata": {},
     "output_type": "display_data"
    },
    {
     "name": "stderr",
     "output_type": "stream",
     "text": [
      "Xet Storage is enabled for this repo, but the 'hf_xet' package is not installed. Falling back to regular HTTP download. For better performance, install the package with: `pip install huggingface_hub[hf_xet]` or `pip install hf_xet`\n"
     ]
    },
    {
     "data": {
      "application/vnd.jupyter.widget-view+json": {
       "model_id": "45c88302614241ecbc57ddc9bc8e7ee4",
       "version_major": 2,
       "version_minor": 0
      },
      "text/plain": [
       "model.safetensors:   0%|          | 0.00/558M [00:00<?, ?B/s]"
      ]
     },
     "metadata": {},
     "output_type": "display_data"
    },
    {
     "data": {
      "application/vnd.jupyter.widget-view+json": {
       "model_id": "82f594c171f54516a8124942b5dc7d31",
       "version_major": 2,
       "version_minor": 0
      },
      "text/plain": [
       "vocab.json: 0.00B [00:00, ?B/s]"
      ]
     },
     "metadata": {},
     "output_type": "display_data"
    },
    {
     "data": {
      "application/vnd.jupyter.widget-view+json": {
       "model_id": "f36e230e7ed941ab98f42b3c37c7f0b7",
       "version_major": 2,
       "version_minor": 0
      },
      "text/plain": [
       "merges.txt: 0.00B [00:00, ?B/s]"
      ]
     },
     "metadata": {},
     "output_type": "display_data"
    },
    {
     "data": {
      "application/vnd.jupyter.widget-view+json": {
       "model_id": "8e24e830814042fcb1625f6f22bca376",
       "version_major": 2,
       "version_minor": 0
      },
      "text/plain": [
       "tokenizer.json: 0.00B [00:00, ?B/s]"
      ]
     },
     "metadata": {},
     "output_type": "display_data"
    }
   ],
   "source": [
    "from transformers import BartTokenizer, BartModel\n",
    "\n",
    "# Selecting the model. You will be using \"facebook/blenderbot-400M-distill\" in this example.\n",
    "model_name = \"facebook/bart-base\"\n",
    "\n",
    "# Load the model and tokenizer\n",
    "model = AutoModelForSeq2SeqLM.from_pretrained(model_name)\n",
    "tokenizer = AutoTokenizer.from_pretrained(model_name)"
   ]
  },
  {
   "cell_type": "markdown",
   "id": "3a54669d-71e3-4fe6-b9e9-4b1532743853",
   "metadata": {},
   "source": [
    "Following the initialization, let's set up the chat function to enable real-time interaction with the chatbot.\n"
   ]
  },
  {
   "cell_type": "code",
   "execution_count": 5,
   "id": "e950fe04-d328-47ec-8283-40a19aeef051",
   "metadata": {},
   "outputs": [
    {
     "name": "stdout",
     "output_type": "stream",
     "text": [
      "Chatbot: Hi! How are you? I just got back from walking my dog. Do you have any pets?\n",
      "Chatbot: What do you like to do in your free time?  I like to play video games.\n",
      "Chatbot: I like to read too.  What kind of books do you like?  I like science fiction.\n",
      "Chatbot: I love Biz Books as well. I read them all the time when I was a kid.\n",
      "Chatbot: Yes, I was a kid.  I had a lot of fun with it.  It was a big part of my childhood.\n",
      "Chatbot: Have you ever heard of Jajajjajaja? It's a Japanese word.\n",
      "Chatbot: The meaning of life is to be a good person. I want to be the best person I can be.\n",
      "Chatbot: Goodbye!\n"
     ]
    }
   ],
   "source": [
    "# Define the chat function\n",
    "def chat_with_bot():\n",
    "    while True:\n",
    "        # Get user input\n",
    "        input_text = input(\"You: \")\n",
    "\n",
    "        # Exit conditions\n",
    "        if input_text.lower() in [\"quit\", \"exit\", \"bye\"]:\n",
    "            print(\"Chatbot: Goodbye!\")\n",
    "            break\n",
    "\n",
    "        # Tokenize input and generate response\n",
    "        inputs = tokenizer.encode(input_text, return_tensors=\"pt\")\n",
    "        outputs = model.generate(inputs, max_new_tokens=150) \n",
    "        response = tokenizer.decode(outputs[0], skip_special_tokens=True).strip()\n",
    "\n",
    "        # Display bot's response\n",
    "        print(\"Chatbot:\", response)\n",
    "\n",
    "# Start chatting\n",
    "chat_with_bot()"
   ]
  },
  {
   "cell_type": "markdown",
   "id": "e7e7f0aa-37d1-40a6-af86-7ed002a66598",
   "metadata": {},
   "source": [
    "Alright! You have successfully interacted with your chatbot. By providing it with a prompt, the chatbot used the power of the transformers library and the underlying model to generate a response. This exemplifies the prowess of transformer-based models in comprehending and generating human-like text based on a given context. As you continue to engage with it, you will observe its capacity to simulate a wide range of conversational topics and styles.\n"
   ]
  },
  {
   "cell_type": "markdown",
   "id": "db3810e3-2342-4464-9152-71618b04d737",
   "metadata": {},
   "source": [
    "#### Step 3: Trying another language model and comparing the output\n"
   ]
  },
  {
   "cell_type": "markdown",
   "id": "d7c997d7-0236-4cd2-9004-8b29e462812d",
   "metadata": {},
   "source": [
    "You can use a different language model, for example the \"[flan-t5-base](https://huggingface.co/google/flan-t5-base)\" model from Google, to create a similar chatbot. You can use a chat function similar to the one defined in Step 2 and compare the outputs of both models.\n"
   ]
  },
  {
   "cell_type": "code",
   "execution_count": 22,
   "id": "64891f6e-fe6d-4a89-a028-f1c091b8d3f7",
   "metadata": {},
   "outputs": [
    {
     "name": "stderr",
     "output_type": "stream",
     "text": [
      "Special tokens have been added in the vocabulary, make sure the associated word embeddings are fine-tuned or trained.\n"
     ]
    }
   ],
   "source": [
    "\n",
    "from transformers import T5Tokenizer, T5ForConditionalGeneration\n",
    "\n",
    "model_name = \"google/flan-t5-small\"\n",
    "tokenizer = T5Tokenizer.from_pretrained(model_name)\n",
    "model = T5ForConditionalGeneration.from_pretrained(model_name)"
   ]
  },
  {
   "cell_type": "code",
   "execution_count": 28,
   "id": "5bd3b669-579f-4048-8212-e3801d0a7501",
   "metadata": {},
   "outputs": [
    {
     "name": "stdout",
     "output_type": "stream",
     "text": [
      "Chatbot: \n",
      "Chatbot: hi i am joey\n",
      "Chatbot: cto\n",
      "Chatbot: ciot\n",
      "Chatbot: cot cot is a cot cot cot cot cot cot cot cot cot cot cot cot cot cot cot cot cot cot cot cot cot cot cot cot cot cot cot cot cot cot cot cot cot cot cot cot cot cot cot cot cot cot cot cot cot cot cot cot cot cot cot cot cot cot cot cot cot cot cot cot cot cot cot cot cot cot cot cot cot cot cot\n",
      "Chatbot: not enough information\n",
      "Chatbot: Goodbye!\n"
     ]
    }
   ],
   "source": [
    "### Let's chat with another bot\n",
    "def chat_with_another_bot():\n",
    "    while True:\n",
    "        # Get user input\n",
    "        input_text = input(\"You: \")\n",
    "\n",
    "        # Exit conditions\n",
    "        if input_text.lower() in [\"quit\", \"exit\", \"bye\"]:\n",
    "            print(\"Chatbot: Goodbye!\")\n",
    "            break\n",
    "\n",
    "        # Tokenize input and generate response\n",
    "        inputs = tokenizer.encode(input_text, return_tensors=\"pt\")\n",
    "        outputs = model.generate(inputs, max_new_tokens=150) \n",
    "        response = tokenizer.decode(outputs[0], skip_special_tokens=True).strip()\n",
    "        \n",
    "        # Display bot's response\n",
    "        print(\"Chatbot:\", response)\n",
    "\n",
    "# Start chatting\n",
    "chat_with_another_bot()"
   ]
  },
  {
   "cell_type": "markdown",
   "id": "ba668ebd-0500-4343-940b-af51c5bb68fe",
   "metadata": {},
   "source": [
    "There are many language models available in Hugging Face. In the following exercise, you will compare the output for the same input using two different models.\n"
   ]
  },
  {
   "cell_type": "markdown",
   "id": "8edb3dd4-c3be-4926-958c-a1380e71d5cf",
   "metadata": {},
   "source": [
    "# Exercise\n"
   ]
  },
  {
   "cell_type": "markdown",
   "id": "35d25baf-c3d6-45b7-9917-22c2b4f6c954",
   "metadata": {},
   "source": [
    "### Create a chatbot using different models from Hugging Face\n"
   ]
  },
  {
   "cell_type": "markdown",
   "id": "c8041d93-af3a-43bf-bd1a-722c3918a73a",
   "metadata": {},
   "source": [
    "Create a simple chatbot using the transformers library from Hugging Face(https://huggingface.co/models). Run the code using the following models and compare the output. The models are \"[google/flan-t5-small](https://huggingface.co/google/flan-t5-small)\", \"[facebook/bart-base](https://huggingface.co/facebook/bart-base)\". \n",
    "(Note: Based on the selected model, you may notice differences in the chatbot output. Multiple factors, such as model training and fine-tuning, influence the output.)\n"
   ]
  },
  {
   "cell_type": "code",
   "execution_count": null,
   "id": "c6b510b2-2f5e-4e46-849b-8789bd84b284",
   "metadata": {},
   "outputs": [],
   "source": [
    "# Add code for the exercise here:\n"
   ]
  },
  {
   "cell_type": "markdown",
   "id": "89c63d58-4533-4fb2-bfa4-022cbb1eaf0a",
   "metadata": {},
   "source": [
    "<details>\n",
    "    <summary>Click here for Solution</summary>\n",
    "\n",
    "```python\n",
    "import sentencepiece\n",
    "from transformers import AutoTokenizer, AutoModelForSeq2SeqLM\n",
    "\n",
    "model_name = \"google/flan-t5-small\" #here the model name can be changed as you like.\n",
    "tokenizer = AutoTokenizer.from_pretrained(model_name)\n",
    "model = AutoModelForSeq2SeqLM.from_pretrained(model_name)\n",
    "```\n",
    "\n",
    "</details>\n"
   ]
  },
  {
   "cell_type": "markdown",
   "id": "455435d5-e2db-4004-b364-ac75731f9bc9",
   "metadata": {},
   "source": [
    "---\n"
   ]
  },
  {
   "cell_type": "markdown",
   "id": "345f45a4-6dca-4350-8617-4df0cb5a3f79",
   "metadata": {},
   "source": [
    "# Congratulations! You have completed the lab.\n"
   ]
  },
  {
   "cell_type": "markdown",
   "id": "67d0daa9-9abb-484c-b22e-95c62087994b",
   "metadata": {},
   "source": [
    "## Authors\n"
   ]
  },
  {
   "cell_type": "markdown",
   "id": "871a3182-0ffe-44a2-8ed0-5d9f63cfece5",
   "metadata": {},
   "source": [
    "[Vicky Kuo](https://author.skills.network/instructors/vicky_kuo) is completing her Master's degree in IT at York University with scholarships. Her master's thesis explores the optimization of deep learning algorithms, employing an innovative approach to scrutinize and enhance neural network structures and performance.\n"
   ]
  },
  {
   "cell_type": "markdown",
   "id": "6798db67-fe1e-465f-9d36-2fe72bf46a2e",
   "metadata": {},
   "source": [
    "© Copyright IBM Corporation. All rights reserved.\n"
   ]
  },
  {
   "cell_type": "markdown",
   "id": "f8dd47b5-18b4-4892-aa31-b35c4d21762c",
   "metadata": {},
   "source": [
    "```{## Change Log}\n",
    "```\n",
    "\n",
    "\n"
   ]
  },
  {
   "cell_type": "markdown",
   "id": "bb76bef6-7e1f-4a32-b003-d488e8bb19e2",
   "metadata": {},
   "source": [
    "```{|Date (YYYY-MM-DD)|Version|Changed By|Change Description|}\n",
    "```\n",
    "```{|-|-|-|-|}\n",
    "```\n",
    "```{|2023-09-10|0.1|Vicky Kuo|Initial Lab Created|}\n",
    "```\n"
   ]
  }
 ],
 "metadata": {
  "kernelspec": {
   "display_name": "base",
   "language": "python",
   "name": "python3"
  },
  "language_info": {
   "codemirror_mode": {
    "name": "ipython",
    "version": 3
   },
   "file_extension": ".py",
   "mimetype": "text/x-python",
   "name": "python",
   "nbconvert_exporter": "python",
   "pygments_lexer": "ipython3",
   "version": "3.12.7"
  },
  "prev_pub_hash": "cb5e5ac53cdc46d67cb32fd01f42a4d930d8a16d47ee21f17c804e4ab9ad587e"
 },
 "nbformat": 4,
 "nbformat_minor": 4
}
